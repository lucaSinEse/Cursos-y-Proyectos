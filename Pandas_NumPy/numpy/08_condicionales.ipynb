{
 "cells": [
  {
   "cell_type": "code",
   "execution_count": 1,
   "metadata": {},
   "outputs": [],
   "source": [
    "import numpy as np"
   ]
  },
  {
   "cell_type": "code",
   "execution_count": 2,
   "metadata": {},
   "outputs": [
    {
     "data": {
      "text/plain": [
       "array([ 1,  2,  3,  4,  5,  6,  7,  8,  9, 10], dtype=int8)"
      ]
     },
     "execution_count": 2,
     "metadata": {},
     "output_type": "execute_result"
    }
   ],
   "source": [
    "arr = np.linspace(1,10,10, dtype='int8')\n",
    "arr"
   ]
  },
  {
   "cell_type": "code",
   "execution_count": 4,
   "metadata": {},
   "outputs": [
    {
     "data": {
      "text/plain": [
       "array([False, False, False, False, False,  True,  True,  True,  True,\n",
       "        True])"
      ]
     },
     "execution_count": 4,
     "metadata": {},
     "output_type": "execute_result"
    }
   ],
   "source": [
    "indices_cond = arr > 5\n",
    "indices_cond"
   ]
  },
  {
   "cell_type": "code",
   "execution_count": 5,
   "metadata": {},
   "outputs": [
    {
     "data": {
      "text/plain": [
       "array([ 6,  7,  8,  9, 10], dtype=int8)"
      ]
     },
     "execution_count": 5,
     "metadata": {},
     "output_type": "execute_result"
    }
   ],
   "source": [
    "arr[indices_cond]"
   ]
  },
  {
   "cell_type": "code",
   "execution_count": 6,
   "metadata": {},
   "outputs": [
    {
     "data": {
      "text/plain": [
       "array([ 6,  7,  8,  9, 10], dtype=int8)"
      ]
     },
     "execution_count": 6,
     "metadata": {},
     "output_type": "execute_result"
    }
   ],
   "source": [
    "arr[arr > 5]"
   ]
  },
  {
   "cell_type": "code",
   "execution_count": 9,
   "metadata": {},
   "outputs": [
    {
     "data": {
      "text/plain": [
       "array([6, 7, 8], dtype=int8)"
      ]
     },
     "execution_count": 9,
     "metadata": {},
     "output_type": "execute_result"
    }
   ],
   "source": [
    "arr[(arr > 5) & (arr < 9)]"
   ]
  },
  {
   "cell_type": "code",
   "execution_count": 10,
   "metadata": {},
   "outputs": [
    {
     "data": {
      "text/plain": [
       "array([99, 99, 99, 99,  5,  6,  7,  8,  9, 10], dtype=int8)"
      ]
     },
     "execution_count": 10,
     "metadata": {},
     "output_type": "execute_result"
    }
   ],
   "source": [
    "arr[(arr < 5)] = 99\n",
    "arr"
   ]
  },
  {
   "cell_type": "code",
   "execution_count": 11,
   "metadata": {},
   "outputs": [
    {
     "data": {
      "text/plain": [
       "array([[19, 59, 18, 65, 18, 18, 91, 94, 93, 41],\n",
       "       [60, 32,  4, 13, 86, 41, 13, 58, 32, 70],\n",
       "       [96,  7, 16, 15, 95, 44, 67,  9, 43, 51],\n",
       "       [87, 67, 98, 30, 84, 25, 69,  9, 49, 90],\n",
       "       [72, 72, 36,  9, 99, 89, 43, 95, 96, 13],\n",
       "       [97, 70, 31, 73, 79, 91, 84,  9, 50, 41],\n",
       "       [37, 56, 43, 48, 82, 47, 71, 26,  1, 88],\n",
       "       [30, 94, 83, 91, 64, 11, 74, 69, 14, 62],\n",
       "       [66, 43, 77, 20,  4, 96, 98, 95, 34, 42],\n",
       "       [88, 95, 31, 97, 66, 44,  1, 74, 32, 48]])"
      ]
     },
     "execution_count": 11,
     "metadata": {},
     "output_type": "execute_result"
    }
   ],
   "source": [
    "reto = np.random.randint(1,100,(10,10))\n",
    "reto"
   ]
  },
  {
   "cell_type": "code",
   "execution_count": 16,
   "metadata": {},
   "outputs": [
    {
     "data": {
      "text/plain": [
       "array([[19, 59, 18, 65, 18, 18, 91, 94, 93, 41],\n",
       "       [60, 32,  4, 13, 86, 41, 13, 58, 32, 70],\n",
       "       [96,  7, 16, 15, 95, 44, 67,  9, 43, 51],\n",
       "       [87, 67, 98, 30, 84, 25, 69,  9, 49, 90],\n",
       "       [72, 72, 36,  9, 99, 89, 43, 95, 96, 13],\n",
       "       [97, 70, 31, 73, 79, 91, 84,  9, 50, 41],\n",
       "       [37, 56, 43, 48, 82, 47, 71, 26,  1, 88],\n",
       "       [30, 94, 83, 91, 64, 11, 74, 69, 14, 62],\n",
       "       [66, 43, 77, 20,  4, 96, 98, 95, 34, 42],\n",
       "       [88, 95, 31, 97, 66, 44,  1, 74, 32, 48]])"
      ]
     },
     "execution_count": 16,
     "metadata": {},
     "output_type": "execute_result"
    }
   ],
   "source": [
    "reto_copia = reto.copy()\n",
    "reto_copia"
   ]
  },
  {
   "cell_type": "markdown",
   "metadata": {},
   "source": [
    "numeros pares"
   ]
  },
  {
   "cell_type": "code",
   "execution_count": 18,
   "metadata": {},
   "outputs": [
    {
     "data": {
      "text/plain": [
       "array([18, 18, 18, 94, 60, 32,  4, 86, 58, 32, 70, 96, 16, 44, 98, 30, 84,\n",
       "       90, 72, 72, 36, 96, 70, 84, 50, 56, 48, 82, 26, 88, 30, 94, 64, 74,\n",
       "       14, 62, 66, 20,  4, 96, 98, 34, 42, 88, 66, 44, 74, 32, 48])"
      ]
     },
     "execution_count": 18,
     "metadata": {},
     "output_type": "execute_result"
    }
   ],
   "source": [
    "pares = reto_copia[(reto_copia %2 == 0)]"
   ]
  },
  {
   "cell_type": "code",
   "execution_count": 19,
   "metadata": {},
   "outputs": [
    {
     "data": {
      "text/plain": [
       "array([19, 59, 65, 91, 93, 41, 13, 41, 13,  7, 15, 95, 67,  9, 43, 51, 87,\n",
       "       67, 25, 69,  9, 49,  9, 99, 89, 43, 95, 13, 97, 31, 73, 79, 91,  9,\n",
       "       41, 37, 43, 47, 71,  1, 83, 91, 11, 69, 43, 77, 95, 95, 31, 97,  1])"
      ]
     },
     "execution_count": 19,
     "metadata": {},
     "output_type": "execute_result"
    }
   ],
   "source": [
    "impares = reto_copia[(reto_copia %2 !=0)]\n",
    "impares"
   ]
  },
  {
   "cell_type": "code",
   "execution_count": null,
   "metadata": {},
   "outputs": [],
   "source": []
  }
 ],
 "metadata": {
  "kernelspec": {
   "display_name": "base",
   "language": "python",
   "name": "python3"
  },
  "language_info": {
   "codemirror_mode": {
    "name": "ipython",
    "version": 3
   },
   "file_extension": ".py",
   "mimetype": "text/x-python",
   "name": "python",
   "nbconvert_exporter": "python",
   "pygments_lexer": "ipython3",
   "version": "3.10.9"
  },
  "orig_nbformat": 4
 },
 "nbformat": 4,
 "nbformat_minor": 2
}
